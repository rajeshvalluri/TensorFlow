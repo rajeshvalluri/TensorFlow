{
  "nbformat": 4,
  "nbformat_minor": 0,
  "metadata": {
    "colab": {
      "name": "Fashion_MNIST",
      "provenance": [],
      "collapsed_sections": [],
      "authorship_tag": "ABX9TyP4G5rsOsb/6rS5k7jQJ19T",
      "include_colab_link": true
    },
    "kernelspec": {
      "name": "python3",
      "display_name": "Python 3"
    },
    "accelerator": "GPU"
  },
  "cells": [
    {
      "cell_type": "markdown",
      "metadata": {
        "id": "view-in-github",
        "colab_type": "text"
      },
      "source": [
        "<a href=\"https://colab.research.google.com/github/rajeshvalluri/TensorFlow/blob/master/Fashion_MNIST.ipynb\" target=\"_parent\"><img src=\"https://colab.research.google.com/assets/colab-badge.svg\" alt=\"Open In Colab\"/></a>"
      ]
    },
    {
      "cell_type": "code",
      "metadata": {
        "id": "GumlmV0MA8JV"
      },
      "source": [
        "#Introduction\n",
        "#Rajesh Valluri\n",
        "#The following workbook is meant to be a practice session for building a machine learning model using Tensorflow.\n",
        "#This will be loading the Fashion MNIST dataset and then training the model and validating it\n",
        "#The fashion dataset has 10 distinct lables, so we have to use classification models\n",
        "\n"
      ],
      "execution_count": 1,
      "outputs": []
    },
    {
      "cell_type": "code",
      "metadata": {
        "id": "SDEgWCn2Bi-L",
        "outputId": "f049db36-e633-44ad-c4e8-44af848abbc1",
        "colab": {
          "base_uri": "https://localhost:8080/",
          "height": 36
        }
      },
      "source": [
        "#make sure you are using the latest version of TF, and then print it to doublecheck\n",
        "%tensorflow_version 2.x\n",
        "import tensorflow as tf\n",
        "print (tf.__version__)"
      ],
      "execution_count": 1,
      "outputs": [
        {
          "output_type": "stream",
          "text": [
            "2.3.0\n"
          ],
          "name": "stdout"
        }
      ]
    },
    {
      "cell_type": "code",
      "metadata": {
        "id": "vp31Rwa8GIpe",
        "outputId": "f7435520-e5b4-4483-b62c-6daffed31079",
        "colab": {
          "base_uri": "https://localhost:8080/",
          "height": 36
        }
      },
      "source": [
        "!nvidia-smi -L"
      ],
      "execution_count": 7,
      "outputs": [
        {
          "output_type": "stream",
          "text": [
            "GPU 0: Tesla T4 (UUID: GPU-092885c0-a9f7-7f75-f146-7e6c571824a2)\n"
          ],
          "name": "stdout"
        }
      ]
    },
    {
      "cell_type": "code",
      "metadata": {
        "id": "dCNUmXSHBTuu"
      },
      "source": [
        "#The importing basics\n",
        "import tensorflow as tf\n",
        "import tensorflow.keras \n",
        "import matplotlib\n",
        "#import the different layers from keras\n",
        "from tensorflow.keras.layers import Dense, Flatten, Conv2D, MaxPool2D\n",
        "from tensorflow.keras.models import Sequential"
      ],
      "execution_count": null,
      "outputs": []
    },
    {
      "cell_type": "code",
      "metadata": {
        "id": "c3wAA1C7CQmj"
      },
      "source": [
        "#start building the sequential model\n",
        "#start with a blank model, and then add layers as per requirement\n",
        "model = Sequential() #initialize\n",
        "model.add(Conv2D(16,(3,3),activation='relu',input_shape=(28,28,1)))  # 16 filters of size 3X3, Conv filters don't have activation functions\n",
        "model.add(MaxPool2D(3,3)) #applying max pooling to reduce dimensionality\n",
        "model.add(Flatten()) # changing the matrix into a 1D array\n",
        "model.add(Dense(units=10, activation='softmax'))\n"
      ],
      "execution_count": null,
      "outputs": []
    },
    {
      "cell_type": "code",
      "metadata": {
        "id": "r8P5zsh9Egkh",
        "outputId": "a6f5262b-b59d-499d-89f4-aa5524589fa2",
        "colab": {
          "base_uri": "https://localhost:8080/",
          "height": 366
        }
      },
      "source": [
        "#compiling the model built above\n",
        "#compiling includes loss functions, metrics to be used and optimization strategy and other stuff\n",
        "# In order for the code to look clean, create variables for each of above\n",
        "acc = tensorflow.keras.metrics.SparseCategoricalAccuracy() #because the training labels are in sparse arrays\n",
        "mae = tensorflow.keras.metrics.MeanAbsoluteError()\n",
        "opt = tensorflow.keras.optimizers.Adam() #default learning rate, so no need for arguments\n",
        "los = 'sparse_categorical_crossentropy'\n",
        "model.compile(opt,los,[acc,mae]) #the artguments to compile model are optimizer, loss function and metrics. \n",
        "#model.compile(optimizer=opt,loss=los,metrics=[mae,acc]) #another way of writing the line above, to avoid positional errors in arguments\n",
        "\n",
        "model.summary()\n",
        "print(model.loss)\n",
        "print(model.metrics)\n",
        "print(model.optimizer.lr)\n"
      ],
      "execution_count": null,
      "outputs": [
        {
          "output_type": "stream",
          "text": [
            "Model: \"sequential_12\"\n",
            "_________________________________________________________________\n",
            "Layer (type)                 Output Shape              Param #   \n",
            "=================================================================\n",
            "conv2d_12 (Conv2D)           (None, 26, 26, 16)        160       \n",
            "_________________________________________________________________\n",
            "max_pooling2d_7 (MaxPooling2 (None, 8, 8, 16)          0         \n",
            "_________________________________________________________________\n",
            "flatten_6 (Flatten)          (None, 1024)              0         \n",
            "_________________________________________________________________\n",
            "dense_10 (Dense)             (None, 10)                10250     \n",
            "=================================================================\n",
            "Total params: 10,410\n",
            "Trainable params: 10,410\n",
            "Non-trainable params: 0\n",
            "_________________________________________________________________\n",
            "sparse_categorical_crossentropy\n",
            "[]\n",
            "<tf.Variable 'learning_rate:0' shape=() dtype=float32, numpy=0.001>\n"
          ],
          "name": "stdout"
        }
      ]
    },
    {
      "cell_type": "code",
      "metadata": {
        "id": "zVSV2m_-PPJT"
      },
      "source": [
        "#Loading the fashion MNIST data set into train and test buckets\n",
        "#Plot a few of the images to get a feel of the images and their labels\n",
        "#Need to import matplotlib and other libraries\n",
        "import matplotlib.pyplot as plt # This library plots images\n",
        "import numpy as np\n",
        "import pandas as pd\n",
        "\n",
        "#load the data files (images)\n",
        "#Define the source first\n",
        "fashion_mnist_data = tf.keras.datasets.fashion_mnist\n",
        "(train_images,train_labels), (test_images, test_labels) = fashion_mnist_data.load_data()"
      ],
      "execution_count": null,
      "outputs": []
    },
    {
      "cell_type": "code",
      "metadata": {
        "id": "NAqJDaDIfmbl",
        "outputId": "0ff75b84-3fa9-4829-8312-93f8d32412c4",
        "colab": {
          "base_uri": "https://localhost:8080/",
          "height": 72
        }
      },
      "source": [
        "print(train_labels.shape)\n",
        "print(test_images.shape)\n",
        "#Printing a list of unique labels in training set\n",
        "labels = np.unique(train_labels)\n",
        "print(labels)\n",
        "#we can see that the labels in the dataset are just numbers and haven't given an English langugage description of those labels\n",
        "#We are just going to have to create our own labels set "
      ],
      "execution_count": null,
      "outputs": [
        {
          "output_type": "stream",
          "text": [
            "(60000,)\n",
            "(10000, 28, 28)\n",
            "[0 1 2 3 4 5 6 7 8 9]\n"
          ],
          "name": "stdout"
        }
      ]
    },
    {
      "cell_type": "code",
      "metadata": {
        "id": "0JeZIdKXgDhG",
        "outputId": "edf931ca-e97e-4a5e-96a9-06b6e2b2e8e2",
        "colab": {
          "base_uri": "https://localhost:8080/",
          "height": 35
        }
      },
      "source": [
        "# Define the labels\n",
        "# The following is copied from the Tensorflow Coursera course from Imperial college in London\n",
        "labels = [\n",
        "    'T-shirt/top',\n",
        "    'Trouser',\n",
        "    'Pullover',\n",
        "    'Dress',\n",
        "    'Coat',\n",
        "    'Sandal',\n",
        "    'Shirt',\n",
        "    'Sneaker',\n",
        "    'Bag',\n",
        "    'Ankle boot'\n",
        "]\n",
        "print(train_labels[5])"
      ],
      "execution_count": null,
      "outputs": [
        {
          "output_type": "stream",
          "text": [
            "2\n"
          ],
          "name": "stdout"
        }
      ]
    },
    {
      "cell_type": "code",
      "metadata": {
        "id": "Nz-T_naPX2Uu",
        "outputId": "4924825c-d932-40c8-ff12-d59c002f1a81",
        "colab": {
          "base_uri": "https://localhost:8080/",
          "height": 283
        }
      },
      "source": [
        "#plot a random training image\n",
        "rnd = np.random.randint(60000)\n",
        "img = train_images[rnd]\n",
        "plt.imshow(img)\n",
        "print(f\"Label of the image is\",labels[train_labels[rnd]],train_labels[rnd])\n"
      ],
      "execution_count": null,
      "outputs": [
        {
          "output_type": "stream",
          "text": [
            "Label of the image is Sneaker 7\n"
          ],
          "name": "stdout"
        },
        {
          "output_type": "display_data",
          "data": {
            "image/png": "[encoded data removed]",
            "text/plain": [
              "<Figure size 432x288 with 1 Axes>"
            ]
          },
          "metadata": {
            "tags": [],
            "needs_background": "light"
          }
        }
      ]
    },
    {
      "cell_type": "code",
      "metadata": {
        "id": "sXJ95nfkfWOz"
      },
      "source": [
        "#Preprocess data by scaling the images to 0-1 range\n",
        "train_images = train_images/255.\n",
        "test_images =  test_images/255. \n"
      ],
      "execution_count": null,
      "outputs": []
    },
    {
      "cell_type": "code",
      "metadata": {
        "id": "mC9OxEgGaeck",
        "outputId": "d684a11e-bf87-4d8f-b483-826090be989d",
        "colab": {
          "base_uri": "https://localhost:8080/",
          "height": 625
        }
      },
      "source": [
        "#train the model using fit()\n",
        "# arguments to the fit function are training data, labels, number of epochs,and batch size\n",
        "#model.fit(train_images[...,np.newaxis], train_labels,epochs=8, batch_size=128) #not exactly sure of the np.newaxis stuff. will research\n",
        "history = model.fit(train_images[...,np.newaxis], train_labels,epochs=16, batch_size = 256)"
      ],
      "execution_count": null,
      "outputs": [
        {
          "output_type": "stream",
          "text": [
            "Epoch 1/16\n",
            "235/235 [==============================] - 14s 58ms/step - loss: 0.3417 - sparse_categorical_accuracy: 0.8791 - mean_absolute_error: 4.4200\n",
            "Epoch 2/16\n",
            "235/235 [==============================] - 13s 57ms/step - loss: 0.3349 - sparse_categorical_accuracy: 0.8820 - mean_absolute_error: 4.4200\n",
            "Epoch 3/16\n",
            "235/235 [==============================] - 13s 57ms/step - loss: 0.3299 - sparse_categorical_accuracy: 0.8839 - mean_absolute_error: 4.4200\n",
            "Epoch 4/16\n",
            "235/235 [==============================] - 13s 57ms/step - loss: 0.3233 - sparse_categorical_accuracy: 0.8864 - mean_absolute_error: 4.4200\n",
            "Epoch 5/16\n",
            "235/235 [==============================] - 13s 57ms/step - loss: 0.3196 - sparse_categorical_accuracy: 0.8871 - mean_absolute_error: 4.4200\n",
            "Epoch 6/16\n",
            "235/235 [==============================] - 14s 57ms/step - loss: 0.3146 - sparse_categorical_accuracy: 0.8887 - mean_absolute_error: 4.4200\n",
            "Epoch 7/16\n",
            "235/235 [==============================] - 13s 57ms/step - loss: 0.3119 - sparse_categorical_accuracy: 0.8891 - mean_absolute_error: 4.4200\n",
            "Epoch 8/16\n",
            "235/235 [==============================] - 14s 57ms/step - loss: 0.3089 - sparse_categorical_accuracy: 0.8907 - mean_absolute_error: 4.4200\n",
            "Epoch 9/16\n",
            "235/235 [==============================] - 13s 57ms/step - loss: 0.3035 - sparse_categorical_accuracy: 0.8924 - mean_absolute_error: 4.4200\n",
            "Epoch 10/16\n",
            "235/235 [==============================] - 14s 57ms/step - loss: 0.3015 - sparse_categorical_accuracy: 0.8927 - mean_absolute_error: 4.4200\n",
            "Epoch 11/16\n",
            "235/235 [==============================] - 13s 57ms/step - loss: 0.2993 - sparse_categorical_accuracy: 0.8931 - mean_absolute_error: 4.4200\n",
            "Epoch 12/16\n",
            "235/235 [==============================] - 13s 57ms/step - loss: 0.2964 - sparse_categorical_accuracy: 0.8944 - mean_absolute_error: 4.4200\n",
            "Epoch 13/16\n",
            "235/235 [==============================] - 13s 57ms/step - loss: 0.2956 - sparse_categorical_accuracy: 0.8948 - mean_absolute_error: 4.4200\n",
            "Epoch 14/16\n",
            "235/235 [==============================] - 13s 57ms/step - loss: 0.2926 - sparse_categorical_accuracy: 0.8963 - mean_absolute_error: 4.4200\n",
            "Epoch 15/16\n",
            "235/235 [==============================] - 14s 58ms/step - loss: 0.2888 - sparse_categorical_accuracy: 0.8965 - mean_absolute_error: 4.4200\n",
            "Epoch 16/16\n",
            "235/235 [==============================] - 14s 58ms/step - loss: 0.2870 - sparse_categorical_accuracy: 0.8970 - mean_absolute_error: 4.4200\n"
          ],
          "name": "stdout"
        }
      ]
    },
    {
      "cell_type": "code",
      "metadata": {
        "id": "qDoZpYpnlXb5",
        "outputId": "6d0df406-d829-49c7-be7b-7aba4f6f207a",
        "colab": {
          "base_uri": "https://localhost:8080/",
          "height": 35
        }
      },
      "source": [
        "#plot some of the metrics store in \"history\" to see how the model is learning\n",
        "#load history into a PD dataframe\n",
        "df = pd.DataFrame(history.history)\n"
      ],
      "execution_count": null,
      "outputs": [
        {
          "output_type": "execute_result",
          "data": {
            "text/plain": [
              "(16, 3)"
            ]
          },
          "metadata": {
            "tags": []
          },
          "execution_count": 97
        }
      ]
    },
    {
      "cell_type": "code",
      "metadata": {
        "id": "AChK9WVHwWfj",
        "outputId": "13b2eef2-ca76-4470-feae-a45a37195f8d",
        "colab": {
          "base_uri": "https://localhost:8080/",
          "height": 363
        }
      },
      "source": [
        "df.head(10)\n",
        "#df.shape"
      ],
      "execution_count": null,
      "outputs": [
        {
          "output_type": "execute_result",
          "data": {
            "text/html": [
              "<div>\n",
              "<style scoped>\n",
              "    .dataframe tbody tr th:only-of-type {\n",
              "        vertical-align: middle;\n",
              "    }\n",
              "\n",
              "    .dataframe tbody tr th {\n",
              "        vertical-align: top;\n",
              "    }\n",
              "\n",
              "    .dataframe thead th {\n",
              "        text-align: right;\n",
              "    }\n",
              "</style>\n",
              "<table border=\"1\" class=\"dataframe\">\n",
              "  <thead>\n",
              "    <tr style=\"text-align: right;\">\n",
              "      <th></th>\n",
              "      <th>loss</th>\n",
              "      <th>sparse_categorical_accuracy</th>\n",
              "      <th>mean_absolute_error</th>\n",
              "    </tr>\n",
              "  </thead>\n",
              "  <tbody>\n",
              "    <tr>\n",
              "      <th>0</th>\n",
              "      <td>0.341665</td>\n",
              "      <td>0.879150</td>\n",
              "      <td>4.420001</td>\n",
              "    </tr>\n",
              "    <tr>\n",
              "      <th>1</th>\n",
              "      <td>0.334939</td>\n",
              "      <td>0.882000</td>\n",
              "      <td>4.419999</td>\n",
              "    </tr>\n",
              "    <tr>\n",
              "      <th>2</th>\n",
              "      <td>0.329923</td>\n",
              "      <td>0.883933</td>\n",
              "      <td>4.420000</td>\n",
              "    </tr>\n",
              "    <tr>\n",
              "      <th>3</th>\n",
              "      <td>0.323327</td>\n",
              "      <td>0.886367</td>\n",
              "      <td>4.419999</td>\n",
              "    </tr>\n",
              "    <tr>\n",
              "      <th>4</th>\n",
              "      <td>0.319576</td>\n",
              "      <td>0.887117</td>\n",
              "      <td>4.420001</td>\n",
              "    </tr>\n",
              "    <tr>\n",
              "      <th>5</th>\n",
              "      <td>0.314633</td>\n",
              "      <td>0.888733</td>\n",
              "      <td>4.420000</td>\n",
              "    </tr>\n",
              "    <tr>\n",
              "      <th>6</th>\n",
              "      <td>0.311946</td>\n",
              "      <td>0.889083</td>\n",
              "      <td>4.419999</td>\n",
              "    </tr>\n",
              "    <tr>\n",
              "      <th>7</th>\n",
              "      <td>0.308851</td>\n",
              "      <td>0.890667</td>\n",
              "      <td>4.420000</td>\n",
              "    </tr>\n",
              "    <tr>\n",
              "      <th>8</th>\n",
              "      <td>0.303455</td>\n",
              "      <td>0.892383</td>\n",
              "      <td>4.419999</td>\n",
              "    </tr>\n",
              "    <tr>\n",
              "      <th>9</th>\n",
              "      <td>0.301512</td>\n",
              "      <td>0.892733</td>\n",
              "      <td>4.420001</td>\n",
              "    </tr>\n",
              "  </tbody>\n",
              "</table>\n",
              "</div>"
            ],
            "text/plain": [
              "       loss  sparse_categorical_accuracy  mean_absolute_error\n",
              "0  0.341665                     0.879150             4.420001\n",
              "1  0.334939                     0.882000             4.419999\n",
              "2  0.329923                     0.883933             4.420000\n",
              "3  0.323327                     0.886367             4.419999\n",
              "4  0.319576                     0.887117             4.420001\n",
              "5  0.314633                     0.888733             4.420000\n",
              "6  0.311946                     0.889083             4.419999\n",
              "7  0.308851                     0.890667             4.420000\n",
              "8  0.303455                     0.892383             4.419999\n",
              "9  0.301512                     0.892733             4.420001"
            ]
          },
          "metadata": {
            "tags": []
          },
          "execution_count": 99
        }
      ]
    },
    {
      "cell_type": "code",
      "metadata": {
        "id": "TZ49lZ0It6kf",
        "outputId": "81aafd3b-497c-4183-e420-168efb177e90",
        "colab": {
          "base_uri": "https://localhost:8080/",
          "height": 313
        }
      },
      "source": [
        "#create a loss plot to trac loss\n",
        "loss_plot = df.plot(y=\"loss\", title=\"loss vs. Epochs\", legend=False)\n",
        "loss_plot.set(xlabel=\"Epochs\")"
      ],
      "execution_count": null,
      "outputs": [
        {
          "output_type": "execute_result",
          "data": {
            "text/plain": [
              "[Text(0.5, 0, 'Epochs')]"
            ]
          },
          "metadata": {
            "tags": []
          },
          "execution_count": 101
        },
        {
          "output_type": "display_data",
          "data": {
            "image/png": "[encoded data removed]",
            "text/plain": [
              "<Figure size 432x288 with 1 Axes>"
            ]
          },
          "metadata": {
            "tags": [],
            "needs_background": "light"
          }
        }
      ]
    },
    {
      "cell_type": "code",
      "metadata": {
        "id": "zC5AeXnsuxTE",
        "outputId": "6fae0ba5-60dc-4cc6-f9e9-27762a3533d4",
        "colab": {
          "base_uri": "https://localhost:8080/",
          "height": 55
        }
      },
      "source": [
        "#Evaluating the model on test data\n",
        "test_loss, test_accuracy, test_mae = model.evaluate(test_images[...,np.newaxis],test_labels)"
      ],
      "execution_count": null,
      "outputs": [
        {
          "output_type": "stream",
          "text": [
            "313/313 [==============================] - 1s 5ms/step - loss: 0.3223 - sparse_categorical_accuracy: 0.8859 - mean_absolute_error: 4.4200\n"
          ],
          "name": "stdout"
        }
      ]
    },
    {
      "cell_type": "code",
      "metadata": {
        "id": "0YWDKUJHxdKb",
        "outputId": "c092b4f8-1e52-4ea4-818d-45c70b2defca",
        "colab": {
          "base_uri": "https://localhost:8080/",
          "height": 283
        }
      },
      "source": [
        "#Let's plot the random test image, and then ask the model to predict it\n",
        "rnd_tst = np.random.randint(10000)\n",
        "tst_img = test_images[rnd_tst]\n",
        "plt.imshow(tst_img)\n",
        "print(f\"The label of the image is\",labels[test_labels[rnd_tst]],test_labels[rnd_tst])\n"
      ],
      "execution_count": null,
      "outputs": [
        {
          "output_type": "stream",
          "text": [
            "The label of the image is Coat 4\n"
          ],
          "name": "stdout"
        },
        {
          "output_type": "display_data",
          "data": {
            "image/png": "[encoded data removed]",
            "text/plain": [
              "<Figure size 432x288 with 1 Axes>"
            ]
          },
          "metadata": {
            "tags": [],
            "needs_background": "light"
          }
        }
      ]
    },
    {
      "cell_type": "code",
      "metadata": {
        "id": "uSYwwSPNyh4n",
        "outputId": "237d4ea0-aa0b-42c4-f2c4-503ea5e8be00",
        "colab": {
          "base_uri": "https://localhost:8080/",
          "height": 35
        }
      },
      "source": [
        "#Using the  model.predict to actually guess an image from test set\n",
        "print(\"According to the trained model, the image is of a\", labels[np.argmax(model.predict(tst_img[np.newaxis,...,np.newaxis]))])"
      ],
      "execution_count": null,
      "outputs": [
        {
          "output_type": "stream",
          "text": [
            "According to the trained model, the image is of a Coat\n"
          ],
          "name": "stdout"
        }
      ]
    },
    {
      "cell_type": "code",
      "metadata": {
        "id": "tHjP95jtyokd"
      },
      "source": [
        ""
      ],
      "execution_count": null,
      "outputs": []
    }
  ]
}